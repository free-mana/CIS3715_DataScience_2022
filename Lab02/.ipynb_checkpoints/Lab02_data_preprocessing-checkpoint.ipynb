{
 "cells": [
  {
   "cell_type": "markdown",
   "metadata": {},
   "source": [
    "# Lab 2: Data Preprocessing"
   ]
  },
  {
   "cell_type": "markdown",
   "metadata": {},
   "source": [
    "In this assignment, we will learn how to explore the raw data and preprocess it. \n",
    "\n",
    "The dataset we are going to exlore is an insurance data. It provides different features of each user as follows:\n",
    "* age: age of the user\n",
    "* sex: gender of the user\n",
    "* bmi: body mass index, providing an understanding of body\n",
    "* children: number of children covered by health insurance / number of dependents\n",
    "* smoker: smoker or not\n",
    "* region: the user's residential area in the US, northeast, southeast, southwest, northwest.\n",
    "\n",
    "Additionally, the medical cost of each user is also provided: \n",
    "* charges: the medical cost \n",
    "\n",
    "Please follow Lecture 5_data_understanding and Lecture 6_data_preprocessing to complete following questions. "
   ]
  },
  {
   "cell_type": "markdown",
   "metadata": {},
   "source": [
    "### Q1. Load data with Pandas and output the basic information of this dataset, such as the features and their data types.  Which features are numerical features and which users are categorical features?\n"
   ]
  },
  {
   "cell_type": "code",
   "execution_count": 36,
   "metadata": {},
   "outputs": [
    {
     "name": "stdout",
     "output_type": "stream",
     "text": [
      "<class 'pandas.core.frame.DataFrame'>\n",
      "RangeIndex: 1338 entries, 0 to 1337\n",
      "Data columns (total 7 columns):\n",
      " #   Column    Non-Null Count  Dtype  \n",
      "---  ------    --------------  -----  \n",
      " 0   age       1338 non-null   int64  \n",
      " 1   sex       1338 non-null   object \n",
      " 2   bmi       1338 non-null   float64\n",
      " 3   children  1338 non-null   int64  \n",
      " 4   smoker    1338 non-null   object \n",
      " 5   region    1338 non-null   object \n",
      " 6   charges   1338 non-null   float64\n",
      "dtypes: float64(2), int64(2), object(3)\n",
      "memory usage: 73.3+ KB\n"
     ]
    }
   ],
   "source": [
    "import pandas as pd\n",
    "\n",
    "df = pd.read_csv('insurance.csv')\n",
    "df.info()"
   ]
  },
  {
   "cell_type": "markdown",
   "metadata": {},
   "source": [
    "### Q2. Check whether there are missing values in this dataset."
   ]
  },
  {
   "cell_type": "code",
   "execution_count": 7,
   "metadata": {},
   "outputs": [
    {
     "data": {
      "text/plain": [
       "age         0\n",
       "sex         0\n",
       "bmi         0\n",
       "children    0\n",
       "smoker      0\n",
       "region      0\n",
       "charges     0\n",
       "dtype: int64"
      ]
     },
     "execution_count": 7,
     "metadata": {},
     "output_type": "execute_result"
    }
   ],
   "source": [
    "df.isnull().sum()"
   ]
  },
  {
   "cell_type": "markdown",
   "metadata": {},
   "source": [
    "### Q3. Visualize all numerical features with histogram plot to see the distribution of each numerical feature. \n"
   ]
  },
  {
   "cell_type": "code",
   "execution_count": 10,
   "metadata": {},
   "outputs": [
    {
     "data": {
      "image/png": "[encoded data removed]",
      "text/plain": [
       "<Figure size 1440x1080 with 4 Axes>"
      ]
     },
     "metadata": {
      "needs_background": "light"
     },
     "output_type": "display_data"
    }
   ],
   "source": [
    "import matplotlib.pyplot as plt\n",
    "df.hist(bins = 50, figsize = (20, 15))\n",
    "plt.show()"
   ]
  },
  {
   "cell_type": "markdown",
   "metadata": {},
   "source": [
    "### Q4. Use corr() function of Pandas to show the correlation between different numerical features"
   ]
  },
  {
   "cell_type": "code",
   "execution_count": 13,
   "metadata": {},
   "outputs": [
    {
     "data": {
      "text/html": [
       "<style type=\"text/css\">\n",
       "#T_7f5ee_row0_col0, #T_7f5ee_row1_col1, #T_7f5ee_row2_col2, #T_7f5ee_row3_col3 {\n",
       "  background-color: #023858;\n",
       "  color: #f1f1f1;\n",
       "}\n",
       "#T_7f5ee_row0_col1 {\n",
       "  background-color: #f0eaf4;\n",
       "  color: #000000;\n",
       "}\n",
       "#T_7f5ee_row0_col2 {\n",
       "  background-color: #fbf3f9;\n",
       "  color: #000000;\n",
       "}\n",
       "#T_7f5ee_row0_col3 {\n",
       "  background-color: #d1d2e6;\n",
       "  color: #000000;\n",
       "}\n",
       "#T_7f5ee_row1_col0 {\n",
       "  background-color: #f5eef6;\n",
       "  color: #000000;\n",
       "}\n",
       "#T_7f5ee_row1_col2, #T_7f5ee_row2_col0, #T_7f5ee_row2_col1, #T_7f5ee_row2_col3 {\n",
       "  background-color: #fff7fb;\n",
       "  color: #000000;\n",
       "}\n",
       "#T_7f5ee_row1_col3 {\n",
       "  background-color: #e9e5f1;\n",
       "  color: #000000;\n",
       "}\n",
       "#T_7f5ee_row3_col0 {\n",
       "  background-color: #cacee5;\n",
       "  color: #000000;\n",
       "}\n",
       "#T_7f5ee_row3_col1 {\n",
       "  background-color: #dedcec;\n",
       "  color: #000000;\n",
       "}\n",
       "#T_7f5ee_row3_col2 {\n",
       "  background-color: #f7f0f7;\n",
       "  color: #000000;\n",
       "}\n",
       "</style>\n",
       "<table id=\"T_7f5ee\">\n",
       "  <thead>\n",
       "    <tr>\n",
       "      <th class=\"blank level0\" >&nbsp;</th>\n",
       "      <th id=\"T_7f5ee_level0_col0\" class=\"col_heading level0 col0\" >age</th>\n",
       "      <th id=\"T_7f5ee_level0_col1\" class=\"col_heading level0 col1\" >bmi</th>\n",
       "      <th id=\"T_7f5ee_level0_col2\" class=\"col_heading level0 col2\" >children</th>\n",
       "      <th id=\"T_7f5ee_level0_col3\" class=\"col_heading level0 col3\" >charges</th>\n",
       "    </tr>\n",
       "  </thead>\n",
       "  <tbody>\n",
       "    <tr>\n",
       "      <th id=\"T_7f5ee_level0_row0\" class=\"row_heading level0 row0\" >age</th>\n",
       "      <td id=\"T_7f5ee_row0_col0\" class=\"data row0 col0\" >1.000000</td>\n",
       "      <td id=\"T_7f5ee_row0_col1\" class=\"data row0 col1\" >0.109272</td>\n",
       "      <td id=\"T_7f5ee_row0_col2\" class=\"data row0 col2\" >0.042469</td>\n",
       "      <td id=\"T_7f5ee_row0_col3\" class=\"data row0 col3\" >0.299008</td>\n",
       "    </tr>\n",
       "    <tr>\n",
       "      <th id=\"T_7f5ee_level0_row1\" class=\"row_heading level0 row1\" >bmi</th>\n",
       "      <td id=\"T_7f5ee_row1_col0\" class=\"data row1 col0\" >0.109272</td>\n",
       "      <td id=\"T_7f5ee_row1_col1\" class=\"data row1 col1\" >1.000000</td>\n",
       "      <td id=\"T_7f5ee_row1_col2\" class=\"data row1 col2\" >0.012759</td>\n",
       "      <td id=\"T_7f5ee_row1_col3\" class=\"data row1 col3\" >0.198341</td>\n",
       "    </tr>\n",
       "    <tr>\n",
       "      <th id=\"T_7f5ee_level0_row2\" class=\"row_heading level0 row2\" >children</th>\n",
       "      <td id=\"T_7f5ee_row2_col0\" class=\"data row2 col0\" >0.042469</td>\n",
       "      <td id=\"T_7f5ee_row2_col1\" class=\"data row2 col1\" >0.012759</td>\n",
       "      <td id=\"T_7f5ee_row2_col2\" class=\"data row2 col2\" >1.000000</td>\n",
       "      <td id=\"T_7f5ee_row2_col3\" class=\"data row2 col3\" >0.067998</td>\n",
       "    </tr>\n",
       "    <tr>\n",
       "      <th id=\"T_7f5ee_level0_row3\" class=\"row_heading level0 row3\" >charges</th>\n",
       "      <td id=\"T_7f5ee_row3_col0\" class=\"data row3 col0\" >0.299008</td>\n",
       "      <td id=\"T_7f5ee_row3_col1\" class=\"data row3 col1\" >0.198341</td>\n",
       "      <td id=\"T_7f5ee_row3_col2\" class=\"data row3 col2\" >0.067998</td>\n",
       "      <td id=\"T_7f5ee_row3_col3\" class=\"data row3 col3\" >1.000000</td>\n",
       "    </tr>\n",
       "  </tbody>\n",
       "</table>\n"
      ],
      "text/plain": [
       "<pandas.io.formats.style.Styler at 0x7f919720f610>"
      ]
     },
     "execution_count": 13,
     "metadata": {},
     "output_type": "execute_result"
    }
   ],
   "source": [
    "hcorr = df.corr()\n",
    "hcorr.style.background_gradient()"
   ]
  },
  {
   "cell_type": "markdown",
   "metadata": {},
   "source": [
    "### Q5. For all categorical features, use bar plot to visualize the number of users within each category."
   ]
  },
  {
   "cell_type": "code",
   "execution_count": 18,
   "metadata": {},
   "outputs": [
    {
     "data": {
      "image/png": "[encoded data removed]",
      "text/plain": [
       "<Figure size 432x288 with 1 Axes>"
      ]
     },
     "metadata": {
      "needs_background": "light"
     },
     "output_type": "display_data"
    },
    {
     "data": {
      "image/png": "[encoded data removed]",
      "text/plain": [
       "<Figure size 432x288 with 1 Axes>"
      ]
     },
     "metadata": {
      "needs_background": "light"
     },
     "output_type": "display_data"
    },
    {
     "data": {
      "image/png": "[encoded data removed]",
      "text/plain": [
       "<Figure size 432x288 with 1 Axes>"
      ]
     },
     "metadata": {
      "needs_background": "light"
     },
     "output_type": "display_data"
    }
   ],
   "source": [
    "df['sex'].value_counts().plot(kind = 'bar')\n",
    "plt.show()\n",
    "df['smoker'].value_counts().plot(kind = 'bar')\n",
    "plt.show()\n",
    "df['region'].value_counts().plot(kind = 'bar')\n",
    "plt.show()"
   ]
  },
  {
   "cell_type": "markdown",
   "metadata": {},
   "source": [
    "### Q6. Convert all categorical features into numerical features with Label Encoding or One-Hot Encoding"
   ]
  },
  {
   "cell_type": "code",
   "execution_count": 42,
   "metadata": {
    "scrolled": false
   },
   "outputs": [
    {
     "name": "stdout",
     "output_type": "stream",
     "text": [
      "<class 'pandas.core.frame.DataFrame'>\n",
      "RangeIndex: 1338 entries, 0 to 1337\n",
      "Data columns (total 7 columns):\n",
      " #   Column    Non-Null Count  Dtype  \n",
      "---  ------    --------------  -----  \n",
      " 0   age       1338 non-null   int64  \n",
      " 1   sex       1338 non-null   int64  \n",
      " 2   bmi       1338 non-null   float64\n",
      " 3   children  1338 non-null   int64  \n",
      " 4   smoker    1338 non-null   int64  \n",
      " 5   region    1338 non-null   int64  \n",
      " 6   charges   1338 non-null   float64\n",
      "dtypes: float64(2), int64(5)\n",
      "memory usage: 73.3 KB\n"
     ]
    }
   ],
   "source": [
    "from sklearn.preprocessing import LabelEncoder\n",
    "\n",
    "df = pd.read_csv('insurance.csv')\n",
    "enc = LabelEncoder()\n",
    "df['sex'] = enc.fit_transform(df['sex'])\n",
    "df['smoker'] = enc.fit_transform(df['smoker'])\n",
    "df['region'] = enc.fit_transform(df['region'])\n",
    "df.info()"
   ]
  },
  {
   "cell_type": "markdown",
   "metadata": {},
   "source": [
    "### Q7. Normalize all numerical features"
   ]
  },
  {
   "cell_type": "code",
   "execution_count": 48,
   "metadata": {},
   "outputs": [
    {
     "name": "stdout",
     "output_type": "stream",
     "text": [
      "[[1.9000e+01 0.0000e+00 2.7900e+01 ... 1.0000e+00 3.0000e+00 1.6885e+04]\n",
      " [1.8000e+01 1.0000e+00 3.3770e+01 ... 0.0000e+00 2.0000e+00 1.7256e+03]\n",
      " [2.8000e+01 1.0000e+00 3.3000e+01 ... 0.0000e+00 2.0000e+00 4.4495e+03]\n",
      " ...\n",
      " [1.8000e+01 0.0000e+00 3.6850e+01 ... 0.0000e+00 2.0000e+00 1.6298e+03]\n",
      " [2.1000e+01 0.0000e+00 2.5800e+01 ... 0.0000e+00 3.0000e+00 2.0079e+03]\n",
      " [6.1000e+01 0.0000e+00 2.9070e+01 ... 1.0000e+00 1.0000e+00 2.9141e+04]]\n",
      "[  18.        0.       15.96      0.        0.        0.     1121.8739]\n",
      "[6.400e+01 1.000e+00 5.313e+01 5.000e+00 1.000e+00 3.000e+00 6.377e+04]\n",
      "[[0.0217 0.     0.3212 ... 1.     1.     0.2516]\n",
      " [0.     1.     0.4791 ... 0.     0.6667 0.0096]\n",
      " [0.2174 1.     0.4584 ... 0.     0.6667 0.0531]\n",
      " ...\n",
      " [0.     0.     0.562  ... 0.     0.6667 0.0081]\n",
      " [0.0652 0.     0.2647 ... 0.     1.     0.0141]\n",
      " [0.9348 0.     0.3527 ... 1.     0.3333 0.4472]]\n"
     ]
    }
   ],
   "source": [
    "import numpy as np\n",
    "np.set_printoptions(precision = 4)\n",
    "\n",
    "arr = df.values[:, :]\n",
    "print(arr)\n",
    "\n",
    "mins = arr.min(axis = 0)\n",
    "maxes = arr.max(axis = 0)\n",
    "print(mins)\n",
    "print(maxes)\n",
    "result = (arr - mins) / (maxes - mins)\n",
    "print(result)"
   ]
  },
  {
   "cell_type": "markdown",
   "metadata": {},
   "source": [
    "### Q8. Save your preprocessed data into a csv file. Submit your code and the preprocessed data."
   ]
  },
  {
   "cell_type": "code",
   "execution_count": 50,
   "metadata": {},
   "outputs": [],
   "source": [
    "np.savetxt('preprocessedInsurance.csv', result, delimiter = ',')"
   ]
  },
  {
   "cell_type": "code",
   "execution_count": null,
   "metadata": {},
   "outputs": [],
   "source": []
  }
 ],
 "metadata": {
  "kernelspec": {
   "display_name": "Python 3 (ipykernel)",
   "language": "python",
   "name": "python3"
  },
  "language_info": {
   "codemirror_mode": {
    "name": "ipython",
    "version": 3
   },
   "file_extension": ".py",
   "mimetype": "text/x-python",
   "name": "python",
   "nbconvert_exporter": "python",
   "pygments_lexer": "ipython3",
   "version": "3.9.9"
  }
 },
 "nbformat": 4,
 "nbformat_minor": 2
}

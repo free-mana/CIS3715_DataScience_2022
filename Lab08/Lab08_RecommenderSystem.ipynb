{
 "cells": [
  {
   "cell_type": "markdown",
   "metadata": {},
   "source": [
    "# Lab 8: Recommender System\n",
    "\n",
    "In this assignment, we will study how to do user-based collaborative filtering and item-based collaborative filtering. "
   ]
  },
  {
   "cell_type": "markdown",
   "metadata": {},
   "source": [
    "## 1. Dataset\n",
    "\n",
    "In this assignment, we will use MovieLens-100K dataset. It includes about 100,000 ratings from 1000 users on 1700 movies.  "
   ]
  },
  {
   "cell_type": "code",
   "execution_count": 3,
   "metadata": {},
   "outputs": [
    {
     "name": "stdout",
     "output_type": "stream",
     "text": [
      "(943, 1664)\n",
      "(943, 1664)\n"
     ]
    }
   ],
   "source": [
    "from math import sqrt\n",
    "import pandas as pd\n",
    "import numpy as np\n",
    "import seaborn as sns\n",
    "from matplotlib import pyplot as plt\n",
    "from sklearn.metrics.pairwise import linear_kernel\n",
    "from sklearn.neighbors import NearestNeighbors\n",
    "\n",
    "# 1. load data\n",
    "user_ratings_train = pd.read_csv('./ml-100k/u1.base', sep='\\t',names=['user_id','movie_id','rating'], usecols=[0,1,2])\n",
    "user_ratings_test = pd.read_csv('./ml-100k/u1.test', sep='\\t',names=['user_id','movie_id','rating'], usecols=[0,1,2])\n",
    "movie_info =  pd.read_csv('./ml-100k/u.item', sep='|', names=['movie_id','title'], usecols=[0,1], encoding=\"ISO-8859-1\")\n",
    "user_ratings_train = pd.merge(movie_info, user_ratings_train)\n",
    "user_ratings_test = pd.merge(movie_info, user_ratings_test)\n",
    "\n",
    "# 2. get the rating matrix. Each row is a user, and each column is a movie.\n",
    "user_ratings_train = user_ratings_train.pivot_table(index=['user_id'], columns=['title'], values='rating')\n",
    "user_ratings_test = user_ratings_test.pivot_table(index=['user_id'], columns=['title'], values='rating')\n",
    "user_ratings_train = user_ratings_train.reindex(index=user_ratings_train.index.union(user_ratings_test.index),\n",
    "                            columns=user_ratings_train.columns.union(user_ratings_test.columns) )\n",
    "\n",
    "user_ratings_test = user_ratings_test.reindex(index=user_ratings_train.index.union(user_ratings_test.index),\n",
    "                            columns=user_ratings_train.columns.union(user_ratings_test.columns) )\n",
    "\n",
    "print(user_ratings_train.shape)\n",
    "print(user_ratings_test.shape)"
   ]
  },
  {
   "cell_type": "markdown",
   "metadata": {},
   "source": [
    "## Task 1. User-based CF\n",
    "\n",
    "* Use pearson correlation to get the similarity between different users.\n",
    "* Based on the obtained similarity score, predict the ratings. You can use 5 nearest neighbors or 10 nearest neighbors.\n",
    "* Compute MAE for the testing set."
   ]
  },
  {
   "cell_type": "code",
   "execution_count": 5,
   "metadata": {},
   "outputs": [
    {
     "name": "stdout",
     "output_type": "stream",
     "text": [
      "[[1.11022302e-16 6.47544752e-01 6.60925605e-01 6.87676851e-01\n",
      "  6.91347417e-01 6.93769310e-01]\n",
      " [0.00000000e+00 5.33992742e-01 5.57585434e-01 5.59853814e-01\n",
      "  5.64183989e-01 5.71700215e-01]\n",
      " [2.22044605e-16 6.01102428e-01 6.35592747e-01 6.50536175e-01\n",
      "  6.55089862e-01 6.61778133e-01]\n",
      " ...\n",
      " [0.00000000e+00 5.06089531e-01 5.44251320e-01 5.85830872e-01\n",
      "  6.03092022e-01 6.04274489e-01]\n",
      " [0.00000000e+00 6.27357479e-01 6.42508716e-01 6.68873411e-01\n",
      "  6.82356423e-01 6.83230542e-01]\n",
      " [1.11022302e-16 5.13492714e-01 5.39363404e-01 5.52326991e-01\n",
      "  5.56149507e-01 5.58960736e-01]] [[  0 822 513 863 912 520]\n",
      " [  1 519 677 734 700 265]\n",
      " [  2 655 751 610 783 586]\n",
      " ...\n",
      " [940 688 816 729 581 741]\n",
      " [941 453 779 473 733 487]\n",
      " [942 681 932 708 631 585]]\n"
     ]
    }
   ],
   "source": [
    "user_ratings_train = user_ratings_train.fillna(0)\n",
    "knn = NearestNeighbors(metric='correlation')\n",
    "knn.fit(user_ratings_train.values)\n",
    "distances, indices = knn.kneighbors(user_ratings_train.values, n_neighbors=6)\n",
    "#print(distances, indices)\n",
    "users_avg = user_ratings_train.mean(axis=1).values\n",
    "test = user_ratings_test.fillna(-1).values\n",
    "pred_arr = []\n",
    "real_arr = []\n",
    "for a in range(test.shape[0]):\n",
    "    for b in range(test.shape[0]):\n",
    "        for p in range(test.shape[1]):\n",
    "            if test[b][p] != -1:\n",
    "                pred = (distances[a][b])\n",
    "                pred_arr.append(pred)\n",
    "                real_arr.append(test[b][p])"
   ]
  },
  {
   "cell_type": "markdown",
   "metadata": {},
   "source": [
    "## Task 2. Item-based CF\n",
    "* Use cosine similarity to get the similarity between different items.\n",
    "* Based on the obtained similarity score, predict the ratings. You can use 5 nearest neighbors or 10 nearest neighbors.\n",
    "* Compute MAE for the testing set."
   ]
  },
  {
   "cell_type": "code",
   "execution_count": 23,
   "metadata": {},
   "outputs": [],
   "source": [
    "# your code"
   ]
  }
 ],
 "metadata": {
  "kernelspec": {
   "display_name": "Python 3",
   "language": "python",
   "name": "python3"
  },
  "language_info": {
   "codemirror_mode": {
    "name": "ipython",
    "version": 3
   },
   "file_extension": ".py",
   "mimetype": "text/x-python",
   "name": "python",
   "nbconvert_exporter": "python",
   "pygments_lexer": "ipython3",
   "version": "3.7.1"
  }
 },
 "nbformat": 4,
 "nbformat_minor": 2
}
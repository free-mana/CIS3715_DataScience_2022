{
 "cells": [
  {
   "cell_type": "markdown",
   "metadata": {},
   "source": [
    "# Lab 8: Recommender System\n",
    "\n",
    "In this assignment, we will study how to do user-based collaborative filtering and item-based collaborative filtering. "
   ]
  },
  {
   "cell_type": "markdown",
   "metadata": {},
   "source": [
    "## 1. Dataset\n",
    "\n",
    "In this assignment, we will use MovieLens-100K dataset. It includes about 100,000 ratings from 1000 users on 1700 movies.  "
   ]
  },
  {
   "cell_type": "code",
   "execution_count": 36,
   "metadata": {},
   "outputs": [
    {
     "name": "stdout",
     "output_type": "stream",
     "text": [
      "(943, 1664)\n",
      "(943, 1664)\n"
     ]
    }
   ],
   "source": [
    "from math import sqrt\n",
    "import pandas as pd\n",
    "import numpy as np\n",
    "import seaborn as sns\n",
    "from matplotlib import pyplot as plt\n",
    "from sklearn.metrics.pairwise import linear_kernel\n",
    "from sklearn.neighbors import NearestNeighbors\n",
    "\n",
    "# 1. load data\n",
    "user_ratings_train = pd.read_csv('./ml-100k/u1.base', sep='\\t',names=['user_id','movie_id','rating'], usecols=[0,1,2])\n",
    "user_ratings_test = pd.read_csv('./ml-100k/u1.test', sep='\\t',names=['user_id','movie_id','rating'], usecols=[0,1,2])\n",
    "movie_info =  pd.read_csv('./ml-100k/u.item', sep='|', names=['movie_id','title'], usecols=[0,1], encoding=\"ISO-8859-1\")\n",
    "user_ratings_train = pd.merge(movie_info, user_ratings_train)\n",
    "user_ratings_test = pd.merge(movie_info, user_ratings_test)\n",
    "\n",
    "# 2. get the rating matrix. Each row is a user, and each column is a movie.\n",
    "user_ratings_train = user_ratings_train.pivot_table(index=['user_id'], columns=['title'], values='rating')\n",
    "user_ratings_test = user_ratings_test.pivot_table(index=['user_id'], columns=['title'], values='rating')\n",
    "user_ratings_train = user_ratings_train.reindex(index=user_ratings_train.index.union(user_ratings_test.index),\n",
    "                            columns=user_ratings_train.columns.union(user_ratings_test.columns) )\n",
    "\n",
    "user_ratings_test = user_ratings_test.reindex(index=user_ratings_train.index.union(user_ratings_test.index),\n",
    "                            columns=user_ratings_train.columns.union(user_ratings_test.columns) )\n",
    "\n",
    "print(user_ratings_train.shape)\n",
    "print(user_ratings_test.shape)"
   ]
  },
  {
   "cell_type": "markdown",
   "metadata": {},
   "source": [
    "## Task 1. User-based CF\n",
    "\n",
    "* Use pearson correlation to get the similarity between different users.\n",
    "* Based on the obtained similarity score, predict the ratings. You can use 5 nearest neighbors or 10 nearest neighbors.\n",
    "* Compute MAE for the testing set."
   ]
  },
  {
   "cell_type": "code",
   "execution_count": 37,
   "metadata": {},
   "outputs": [
    {
     "name": "stdout",
     "output_type": "stream",
     "text": [
      "2.2758162801671507\n"
     ]
    }
   ],
   "source": [
    "user_ratings_train = user_ratings_train.fillna(0)\n",
    "knn = NearestNeighbors(metric='correlation')\n",
    "knn.fit(user_ratings_train.values)\n",
    "distances, indices = knn.kneighbors(user_ratings_train.values, n_neighbors=6)\n",
    "users_avg = user_ratings_train.mean(axis=1).values\n",
    "train = user_ratings_train.values\n",
    "test = user_ratings_test.fillna(-1).values\n",
    "pred_arr = []\n",
    "real_arr = []\n",
    "for i in range(test.shape[0]):\n",
    "    for j in range(test.shape[1]):\n",
    "        if test[i][j] != -1:\n",
    "            label = test[i][j]\n",
    "            real_arr.append(label)\n",
    "            simScores = distances[i, 1:]\n",
    "            nnUsers = indices[i, 1:]\n",
    "            rDiff = []\n",
    "            for user in nnUsers:\n",
    "                value = train[user][j] - users_avg[user]\n",
    "                rDiff.append(value)\n",
    "            pred = users_avg[i] + np.sum(np.multiply(simScores, rDiff)) / np.sum(simScores)\n",
    "            pred_arr.append(pred)\n",
    "from sklearn.metrics import mean_absolute_error as mae\n",
    "loss = mae(real_arr, pred_arr)\n",
    "print(loss)\n"
   ]
  },
  {
   "cell_type": "markdown",
   "metadata": {},
   "source": [
    "## Task 2. Item-based CF\n",
    "* Use cosine similarity to get the similarity between different items.\n",
    "* Based on the obtained similarity score, predict the ratings. You can use 5 nearest neighbors or 10 nearest neighbors.\n",
    "* Compute MAE for the testing set."
   ]
  },
  {
   "cell_type": "code",
   "execution_count": 38,
   "metadata": {},
   "outputs": [
    {
     "name": "stdout",
     "output_type": "stream",
     "text": [
      "(1664, 943)\n",
      "(1664, 943)\n"
     ]
    }
   ],
   "source": [
    "user_ratings_train = user_ratings_train.fillna(0)\n",
    "knn = NearestNeighbors(metric='cosine')\n",
    "user_ratings_train = user_ratings_train.transpose()\n",
    "user_ratings_test = user_ratings_test.transpose()\n",
    "knn.fit(user_ratings_train.values)\n",
    "distances, indices = knn.kneighbors(user_ratings_train.values, n_neighbors=6)\n",
    "users_avg = user_ratings_train.mean(axis=1).values\n",
    "train = user_ratings_train.values\n",
    "test = user_ratings_test.fillna(-1).values\n",
    "pred_arr = []\n",
    "real_arr = []\n",
    "print(train.shape)\n",
    "print(test.shape)"
   ]
  },
  {
   "cell_type": "code",
   "execution_count": 39,
   "outputs": [
    {
     "name": "stdout",
     "output_type": "stream",
     "text": [
      "divide by 0 error at i = 163, j = 12\n",
      "divide by 0 error at i = 253, j = 57\n",
      "divide by 0 error at i = 253, j = 113\n",
      "divide by 0 error at i = 253, j = 304\n",
      "divide by 0 error at i = 267, j = 166\n",
      "divide by 0 error at i = 323, j = 404\n",
      "divide by 0 error at i = 357, j = 206\n",
      "divide by 0 error at i = 401, j = 166\n",
      "divide by 0 error at i = 615, j = 397\n",
      "divide by 0 error at i = 750, j = 180\n",
      "divide by 0 error at i = 900, j = 12\n",
      "divide by 0 error at i = 1006, j = 206\n",
      "divide by 0 error at i = 1272, j = 404\n",
      "divide by 0 error at i = 1358, j = 180\n",
      "divide by 0 error at i = 1541, j = 194\n"
     ]
    }
   ],
   "source": [
    "for i in range(test.shape[0]):\n",
    "    for j in range(test.shape[1]):\n",
    "        if test[i][j] != -1:\n",
    "            label = test[i][j]\n",
    "            simScores = distances[i, 1:]\n",
    "            nnUsers = indices[i, 1:]\n",
    "            rDiff = []\n",
    "            for user in nnUsers:\n",
    "                value = train[user][j] - users_avg[user]\n",
    "                rDiff.append(value)\n",
    "            if np.sum(simScores) == 0:\n",
    "                print(\"divide by 0 error at i = \" + str(i) + \", j = \" + str(j))\n",
    "            else:\n",
    "                pred = users_avg[i] + np.sum(np.multiply(simScores, rDiff)) / np.sum(simScores)\n",
    "                pred_arr.append(pred)\n",
    "                real_arr.append(label)"
   ],
   "metadata": {
    "collapsed": false,
    "pycharm": {
     "name": "#%%\n"
    }
   }
  },
  {
   "cell_type": "code",
   "execution_count": 40,
   "outputs": [
    {
     "name": "stdout",
     "output_type": "stream",
     "text": [
      "2.555891827810941\n"
     ]
    }
   ],
   "source": [
    "loss = mae(real_arr, pred_arr)\n",
    "print(loss)\n"
   ],
   "metadata": {
    "collapsed": false,
    "pycharm": {
     "name": "#%%\n"
    }
   }
  }
 ],
 "metadata": {
  "kernelspec": {
   "display_name": "Python 3",
   "language": "python",
   "name": "python3"
  },
  "language_info": {
   "codemirror_mode": {
    "name": "ipython",
    "version": 3
   },
   "file_extension": ".py",
   "mimetype": "text/x-python",
   "name": "python",
   "nbconvert_exporter": "python",
   "pygments_lexer": "ipython3",
   "version": "3.7.1"
  }
 },
 "nbformat": 4,
 "nbformat_minor": 2
}